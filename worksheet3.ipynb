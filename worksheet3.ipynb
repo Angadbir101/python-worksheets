{
 "cells": [
  {
   "cell_type": "code",
   "execution_count": 1,
   "id": "f309dc98-e542-4323-8435-a3470bf080d3",
   "metadata": {},
   "outputs": [
    {
     "name": "stdin",
     "output_type": "stream",
     "text": [
      "Enter a number:  56\n"
     ]
    },
    {
     "name": "stdout",
     "output_type": "stream",
     "text": [
      "Result: 78\n"
     ]
    }
   ],
   "source": [
    "def calculate_difference(number):\n",
    "    if number > 17:\n",
    "        return 2 * abs(number - 17)\n",
    "    else:\n",
    "        return abs(number - 17)\n",
    "\n",
    "\n",
    "num = int(input(\"Enter a number: \"))\n",
    "print(\"Result:\", calculate_difference(num))\n"
   ]
  },
  {
   "cell_type": "code",
   "execution_count": 2,
   "id": "c7b82baf-810e-4edd-b32b-58393c476d22",
   "metadata": {},
   "outputs": [
    {
     "name": "stdin",
     "output_type": "stream",
     "text": [
      "Enter a number:  6\n"
     ]
    },
    {
     "name": "stdout",
     "output_type": "stream",
     "text": [
      "Is within range: False\n"
     ]
    }
   ],
   "source": [
    "def is_within_range(number):\n",
    "    return 100 <= number <= 1000 or number == 2000\n",
    "\n",
    "num = int(input(\"Enter a number: \"))\n",
    "print(\"Is within range:\", is_within_range(num))\n"
   ]
  },
  {
   "cell_type": "code",
   "execution_count": 3,
   "id": "1f6d6916-7b9e-4722-8e47-5e06880261a1",
   "metadata": {},
   "outputs": [
    {
     "name": "stdin",
     "output_type": "stream",
     "text": [
      "Enter a string:  hello\n"
     ]
    },
    {
     "name": "stdout",
     "output_type": "stream",
     "text": [
      "Reversed string: olleh\n"
     ]
    }
   ],
   "source": [
    "def reverse_string(s):\n",
    "    return s[::-1]\n",
    "\n",
    "string = input(\"Enter a string: \")\n",
    "print(\"Reversed string:\", reverse_string(string))\n"
   ]
  },
  {
   "cell_type": "code",
   "execution_count": 4,
   "id": "df728fd2-a2b2-4281-93ad-a923962fbfeb",
   "metadata": {},
   "outputs": [
    {
     "name": "stdin",
     "output_type": "stream",
     "text": [
      "Enter a string:  angad bir\n"
     ]
    },
    {
     "name": "stdout",
     "output_type": "stream",
     "text": [
      "Upper case letters: 0\n",
      "Lower case letters: 8\n"
     ]
    }
   ],
   "source": [
    "def count_case_letters(s):\n",
    "    upper_count = sum(1 for c in s if c.isupper())\n",
    "    lower_count = sum(1 for c in s if c.islower())\n",
    "    return upper_count, lower_count\n",
    "\n",
    "string = input(\"Enter a string: \")\n",
    "upper, lower = count_case_letters(string)\n",
    "print(\"Upper case letters:\", upper)\n",
    "print(\"Lower case letters:\", lower)\n"
   ]
  },
  {
   "cell_type": "code",
   "execution_count": 6,
   "id": "4cfc5fb4-a2a1-4e70-a202-13a263425335",
   "metadata": {},
   "outputs": [
    {
     "name": "stdout",
     "output_type": "stream",
     "text": [
      "Distinct elements: [1, 2, 3, 4, 5]\n"
     ]
    }
   ],
   "source": [
    "def distinct_elements(lt):\n",
    "    return list(set(lst))\n",
    "\n",
    "lt = [1, 2, 2, 3, 4, 4, 5]\n",
    "print(\"Distinct elements:\", distinct_elements(lt))\n"
   ]
  },
  {
   "cell_type": "code",
   "execution_count": 7,
   "id": "fb2116e3-7de5-41c4-9131-466acdfe6ab9",
   "metadata": {},
   "outputs": [
    {
     "name": "stdout",
     "output_type": "stream",
     "text": [
      "Even numbers: [2, 4, 6, 8]\n"
     ]
    }
   ],
   "source": [
    "def print_even_numbers(lt):\n",
    "    even_numbers = [num for num in lt if num % 2 == 0]\n",
    "    print(\"Even numbers:\", even_numbers)\n",
    "lt = [1, 2, 3, 4, 5, 6, 7, 8, 9]\n",
    "print_even_numbers(lt)\n",
    "\n"
   ]
  },
  {
   "cell_type": "code",
   "execution_count": 15,
   "id": "aed7da9a-207b-4858-880a-43e78632fdfe",
   "metadata": {},
   "outputs": [
    {
     "name": "stdout",
     "output_type": "stream",
     "text": [
      "4.166666666666667\n"
     ]
    }
   ],
   "source": [
    "\n",
    "def average(n,summing):\n",
    "    sum = summing(n)\n",
    "    avg=sum/len(n)\n",
    "    return avg\n",
    "def summing(n):\n",
    "    total=0\n",
    "    for num in n:\n",
    "        total+=num\n",
    "    return total \n",
    "n=[1,3,2,4,7,8]\n",
    "\n",
    "avrg=average(n,summing)\n",
    "\n",
    "print(avrg)\n"
   ]
  },
  {
   "cell_type": "code",
   "execution_count": 23,
   "id": "5ee62ec3-e6e5-4823-9bb7-3f1131f1b4f4",
   "metadata": {},
   "outputs": [
    {
     "name": "stdout",
     "output_type": "stream",
     "text": [
      "Function argument names: ('name', 'age', 'roll_number')\n"
     ]
    }
   ],
   "source": [
    "def student(name, age, roll_number):\n",
    "    pass\n",
    "\n",
    "print(\"Function argument names:\", student.__code__.co_varnames)\n"
   ]
  },
  {
   "cell_type": "code",
   "execution_count": 25,
   "id": "85e8e8ee-29cb-41a4-9adc-46cda64cecf5",
   "metadata": {},
   "outputs": [
    {
     "name": "stdout",
     "output_type": "stream",
     "text": [
      "student_id: 39\n",
      "student_name: angad bir\n",
      "student_class: 2 year \n"
     ]
    }
   ],
   "source": [
    "class Student:\n",
    "    def __init__(self, student_id, student_name):\n",
    "        self.student_id = student_id\n",
    "        self.student_name = student_name\n",
    "        self.student_class = None\n",
    "    def display_attributes(self):\n",
    "        \n",
    "        attributes = vars(self)\n",
    "        for attribute, value in attributes.items():\n",
    "            print(f\"{attribute}: {value}\")\n",
    "\n",
    "student1 = Student(39, \"angad bir\")\n",
    "student1.student_class = \"2 year \"\n",
    "student1.display_attributes()\n"
   ]
  },
  {
   "cell_type": "code",
   "execution_count": 27,
   "id": "6d2cd469-1ade-4a0d-b772-eddb7eb9f638",
   "metadata": {},
   "outputs": [
    {
     "name": "stdout",
     "output_type": "stream",
     "text": [
      "Student 1:\n",
      "student_id: 10\n",
      "student_name: Angad\n",
      "\n",
      "Student 2:\n",
      "student_id: 11\n",
      "student_name: rohan\n"
     ]
    }
   ],
   "source": [
    "class Student:\n",
    "    def __init__(self, student_id, student_name):\n",
    "        self.student_id = student_id\n",
    "        self.student_name = student_name\n",
    "\n",
    "\n",
    "student1 = Student(10, \"Angad\")\n",
    "student2 = Student(11, \"rohan\")\n",
    "\n",
    "\n",
    "print(\"Student 1:\")\n",
    "for attribute, value in vars(student1).items():\n",
    "    print(f\"{attribute}: {value}\")\n",
    "\n",
    "print(\"\\nStudent 2:\")\n",
    "for attribute, value in vars(student2).items():\n",
    "    print(f\"{attribute}: {value}\") \n"
   ]
  },
  {
   "cell_type": "code",
   "execution_count": 29,
   "id": "1e978af0-a553-4ef6-af3d-1fde430754d1",
   "metadata": {},
   "outputs": [
    {
     "name": "stdout",
     "output_type": "stream",
     "text": [
      "Area: 50.26548245743669\n",
      "Perimeter: 25.132741228718345\n"
     ]
    }
   ],
   "source": [
    "import math\n",
    "\n",
    "class Circle:\n",
    "    def __init__(self, radius):\n",
    "        self.radius = radius\n",
    "\n",
    "    def area(self):\n",
    "        \n",
    "        return math.pi * self.radius ** 2\n",
    "\n",
    "    def perimeter(self):\n",
    "        \n",
    "        return 2 * math.pi * self.radius\n",
    "\n",
    "\n",
    "circle = Circle(4)\n",
    "print(\"Area:\", circle.area())\n",
    "print(\"Perimeter:\", circle.perimeter())\n"
   ]
  },
  {
   "cell_type": "code",
   "execution_count": 30,
   "id": "752c11cd-8dd3-4520-a1a1-243244ca9a02",
   "metadata": {},
   "outputs": [
    {
     "name": "stdin",
     "output_type": "stream",
     "text": [
      "Enter a string:  hulo\n"
     ]
    },
    {
     "name": "stdout",
     "output_type": "stream",
     "text": [
      "HULO\n"
     ]
    }
   ],
   "source": [
    "\n",
    "class StringManipulator:\n",
    "    def __init__(self):\n",
    "        self.user_string = \"\"\n",
    "\n",
    "    def get_String(self):\n",
    "        \n",
    "        self.user_string = input(\"Enter a string: \")\n",
    "\n",
    "    def print_String(self):\n",
    "       \n",
    "        print(self.user_string.upper())\n",
    "\n",
    "\n",
    "string_manipulator = StringManipulator()\n",
    "string_manipulator.get_String()\n",
    "string_manipulator.print_String()\n"
   ]
  },
  {
   "cell_type": "code",
   "execution_count": null,
   "id": "c23ed2a1-9741-49e9-92f1-ee46b31070aa",
   "metadata": {},
   "outputs": [],
   "source": []
  }
 ],
 "metadata": {
  "kernelspec": {
   "display_name": "Python 3 (ipykernel)",
   "language": "python",
   "name": "python3"
  },
  "language_info": {
   "codemirror_mode": {
    "name": "ipython",
    "version": 3
   },
   "file_extension": ".py",
   "mimetype": "text/x-python",
   "name": "python",
   "nbconvert_exporter": "python",
   "pygments_lexer": "ipython3",
   "version": "3.11.7"
  }
 },
 "nbformat": 4,
 "nbformat_minor": 5
}
