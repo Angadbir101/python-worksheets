{
 "cells": [
  {
   "cell_type": "code",
   "execution_count": 10,
   "metadata": {
    "id": "fzflPisDwDJg"
   },
   "outputs": [
    {
     "name": "stdout",
     "output_type": "stream",
     "text": [
      "[11, 12, 13, 14]\n",
      "[11, 12, 13, 14, 50, 60]\n",
      "[12, 14, 50, 60]\n",
      "[12, 14, 50, 60]\n",
      "[60, 50, 14, 12]\n",
      "False\n",
      "count= 4\n",
      "total sum = 136\n",
      "odd sum= 0\n",
      "even sum= 136\n",
      "0\n",
      "[]\n"
     ]
    }
   ],
   "source": [
    "L = [11, 12, 13, 14]\n",
    "print(L)\n",
    "# i\n",
    "L.append(50)\n",
    "L.append(60)\n",
    "print(L)\n",
    "# ii\n",
    "L.remove(11)\n",
    "L.remove(13)\n",
    "print(L)\n",
    "# iii\n",
    "L.sort()\n",
    "print(L)\n",
    "# iv\n",
    "L.sort(reverse=True)\n",
    "print(L)\n",
    "# v\n",
    "found = 13 in L\n",
    "print(found)\n",
    "# vi\n",
    "count = len(L)\n",
    "print(\"count=\",count)\n",
    "# vii\n",
    "total_sum = sum(L)\n",
    "print(\"total sum =\",total_sum)\n",
    "# viii\n",
    "odd_sum = sum(x for x in L if x % 2 != 0)\n",
    "print(\"odd sum=\",odd_sum)\n",
    "# ix\n",
    "even_sum = sum(x for x in L if x % 2 == 0)\n",
    "print(\"even sum=\",even_sum)\n",
    "# x\n",
    "def is_prime(n):\n",
    "    if n < 2:\n",
    "        return False\n",
    "    for i in range(2, int(n**0.5) + 1):\n",
    "        if n % i == 0:\n",
    "            return False\n",
    "    return True\n",
    "\n",
    "prime_sum = sum(x for x in L if is_prime(x))\n",
    "print(prime_sum)\n",
    "# xi\n",
    "L.clear()\n",
    "print(L)\n",
    "# xii\n",
    "del L\n",
    "\n"
   ]
  },
  {
   "cell_type": "code",
   "execution_count": 2,
   "metadata": {
    "colab": {
     "base_uri": "https://localhost:8080/"
    },
    "id": "8vmzVMGYwR0M",
    "outputId": "bf942ac2-2b65-419e-e1fd-87d7e55c55d2"
   },
   "outputs": [
    {
     "name": "stdout",
     "output_type": "stream",
     "text": [
      "15\n"
     ]
    }
   ],
   "source": [
    "numbers = [1, 2, 3, 4, 5]\n",
    "total_sum = 0\n",
    "for num in numbers:\n",
    "    total_sum += num\n",
    "print(total_sum)\n"
   ]
  },
  {
   "cell_type": "code",
   "execution_count": 3,
   "metadata": {
    "colab": {
     "base_uri": "https://localhost:8080/"
    },
    "id": "1uQFqeIWwUUn",
    "outputId": "ff31748c-a784-48c5-9772-1c206f6973a8"
   },
   "outputs": [
    {
     "name": "stdout",
     "output_type": "stream",
     "text": [
      "24\n"
     ]
    }
   ],
   "source": [
    "numbers = [1, 2, 3, 4]\n",
    "product = 1\n",
    "for num in numbers:\n",
    "    product *= num\n",
    "print(product)\n"
   ]
  },
  {
   "cell_type": "code",
   "execution_count": 4,
   "metadata": {
    "colab": {
     "base_uri": "https://localhost:8080/"
    },
    "id": "S-vPrEsswV6g",
    "outputId": "7b5ccecd-081e-4f46-b3e5-cdfdac52a8ab"
   },
   "outputs": [
    {
     "name": "stdout",
     "output_type": "stream",
     "text": [
      "[[['*', '*', '*', '*', '*', '*'], ['*', '*', '*', '*', '*', '*'], ['*', '*', '*', '*', '*', '*'], ['*', '*', '*', '*', '*', '*']], [['*', '*', '*', '*', '*', '*'], ['*', '*', '*', '*', '*', '*'], ['*', '*', '*', '*', '*', '*'], ['*', '*', '*', '*', '*', '*']], [['*', '*', '*', '*', '*', '*'], ['*', '*', '*', '*', '*', '*'], ['*', '*', '*', '*', '*', '*'], ['*', '*', '*', '*', '*', '*']]]\n"
     ]
    }
   ],
   "source": [
    "array = [[['*' for _ in range(6)] for _ in range(4)] for _ in range(3)]\n",
    "print(array)\n"
   ]
  },
  {
   "cell_type": "code",
   "execution_count": 19,
   "metadata": {
    "id": "iq4zxrRLwXdD"
   },
   "outputs": [],
   "source": [
    "D = {1: 5.6, 2: 7.8, 3: 6.6, 4: 8.7, 5: 7.7}\n",
    "\n",
    "# (i) \n",
    "D[8] = 8.8\n",
    "\n",
    "# (ii) \n",
    "D.pop(2)\n",
    "\n",
    "# (iii)\n",
    "key_exists = 6 in D\n",
    "\n",
    "# (iv)  \n",
    "count = len(D)\n",
    "\n",
    "# (v) \n",
    "total_sum = sum(D.values())\n",
    "\n",
    "# (vi) \n",
    "D[3] = 7.1\n",
    "\n",
    "# (vii)\n",
    "D.clear()\n",
    "\n"
   ]
  },
  {
   "cell_type": "code",
   "execution_count": 12,
   "metadata": {
    "id": "ByM0lgQJwZHV"
   },
   "outputs": [
    {
     "name": "stdout",
     "output_type": "stream",
     "text": [
      "{50, 20, 40, 10, 60, 30}\n",
      "{80, 50, 70, 40, 90, 60}\n",
      "{50, 66, 20, 55, 40, 10, 60, 30}\n",
      "{50, 66, 20, 55, 40, 60}\n",
      "{80, 50, 70, 40, 90, 60}\n",
      "True\n",
      "{66, 70, 40, 80, 50, 20, 55, 90, 60}\n",
      "{40, 50, 60}\n",
      "{66, 20, 55}\n"
     ]
    }
   ],
   "source": [
    "S1 = {10, 20, 30, 40, 50, 60}\n",
    "S2 = {40, 50, 60, 70, 80, 90}\n",
    "print(S1)\n",
    "print(S2)\n",
    "# (i) \n",
    "S1.update([55, 66])\n",
    "print(S1)\n",
    "# (ii) \n",
    "S1.discard(10)\n",
    "S1.discard(30)\n",
    "print(S1)\n",
    "print(S2)\n",
    "# (iii) \n",
    "is_present = 40 in S1\n",
    "print(is_present)\n",
    "# (iv) \n",
    "union_set = S1.union(S2)\n",
    "print(union_set)\n",
    "# (v) \n",
    "intersection_set = S1.intersection(S2)\n",
    "print(intersection_set)\n",
    "# (vi) \n",
    "difference_set = S1.difference(S2)\n",
    "print(difference_set)\n"
   ]
  },
  {
   "cell_type": "code",
   "execution_count": 13,
   "metadata": {
    "colab": {
     "base_uri": "https://localhost:8080/"
    },
    "id": "UmXZWBlRyY1O",
    "outputId": "4615e246-e0ab-4823-d694-d6e0ce670e32"
   },
   "outputs": [
    {
     "name": "stdout",
     "output_type": "stream",
     "text": [
      "woXTudR\n",
      "UzPyeN\n",
      "uhoDBzAz\n",
      "orPczxil\n",
      "SNGDQxog\n",
      "pynFEn\n",
      "PncdhMFX\n",
      "FYDrLCr\n",
      "GqfqAX\n",
      "NtpFmpG\n",
      "nXmKkE\n",
      "bljeETLQ\n",
      "wzfIoda\n",
      "QYvTGnU\n",
      "mxerExH\n",
      "qNlAAlW\n",
      "bKlVWFcD\n",
      "dLmJstTl\n",
      "tWzfBdy\n",
      "vgyZmP\n",
      "fLUajEUO\n",
      "JUuAFDJH\n",
      "bPVkGjz\n",
      "jUDOoHLy\n",
      "SBLopYKe\n",
      "aAjjRv\n",
      "oDOendN\n",
      "cjWKIiMs\n",
      "JHxkhOz\n",
      "Stywajj\n",
      "PkDBlefv\n",
      "EDJJJZK\n",
      "YIswXboU\n",
      "SffVgeMx\n",
      "GckuaL\n",
      "cOWiPD\n",
      "LUXYHR\n",
      "hCQlpS\n",
      "xjpnIunQ\n",
      "BkfgEm\n",
      "VmIOUTv\n",
      "TVlsGgX\n",
      "GlvLZBa\n",
      "uhEnkVWx\n",
      "nwIbIpv\n",
      "hnrlJw\n",
      "iFVUtI\n",
      "ebijoDh\n",
      "eJbsime\n",
      "QDxzmi\n",
      "FrIKxAAX\n",
      "QTSVQZg\n",
      "SRDyBt\n",
      "rBXPAS\n",
      "yQzTPpE\n",
      "bbPuVALg\n",
      "mebQpFb\n",
      "OLSZJpgN\n",
      "aGdIbW\n",
      "Nmoovf\n",
      "auFYnVA\n",
      "NlHDtjmn\n",
      "jzSuUmO\n",
      "LMwsPH\n",
      "fblymc\n",
      "cIasXl\n",
      "lMPQMNRM\n",
      "XjnlitCw\n",
      "tvZILqa\n",
      "XQudTXlz\n",
      "gjwMWx\n",
      "fQzSfwSA\n",
      "IbDuCJN\n",
      "SkRcsfq\n",
      "HUBdJfYx\n",
      "nCsoyt\n",
      "bqgibosV\n",
      "bkMpuzJa\n",
      "IacNfG\n",
      "pPThLLt\n",
      "Meileh\n",
      "fZydtmS\n",
      "odaIcfUw\n",
      "LIZAdRp\n",
      "unaChCRf\n",
      "hYZhfws\n",
      "ZMTWiqI\n",
      "kUUyAbV\n",
      "ygWKbg\n",
      "hxxtEhUW\n",
      "HeWHPG\n",
      "kwbUGQ\n",
      "DzLqeEvY\n",
      "bQYAgy\n",
      "SiNxHs\n",
      "SBqGVk\n",
      "mbQatVNw\n",
      "DjXown\n",
      "HeIeVw\n",
      "EpjUVbS\n",
      "601\n",
      "607\n",
      "613\n",
      "617\n",
      "619\n",
      "631\n",
      "641\n",
      "643\n",
      "647\n",
      "653\n",
      "659\n",
      "661\n",
      "673\n",
      "677\n",
      "683\n",
      "691\n",
      "701\n",
      "709\n",
      "719\n",
      "727\n",
      "733\n",
      "739\n",
      "743\n",
      "751\n",
      "757\n",
      "761\n",
      "769\n",
      "773\n",
      "787\n",
      "797\n",
      "126\n",
      "189\n",
      "252\n",
      "315\n",
      "378\n",
      "441\n",
      "504\n",
      "567\n",
      "630\n",
      "693\n",
      "756\n",
      "819\n",
      "882\n",
      "945\n"
     ]
    }
   ],
   "source": [
    "import random\n",
    "import string\n",
    "\n",
    "# (i) Print 100 random strings whose length is between 6 and 8\n",
    "for _ in range(100):\n",
    "    length = random.randint(6, 8)\n",
    "    random_string = ''.join(random.choices(string.ascii_letters, k=length))\n",
    "    print(random_string)\n",
    "\n",
    "# (ii) Print all prime numbers between 600 and 800\n",
    "for num in range(600, 801):\n",
    "    if all(num % i != 0 for i in range(2, int(num**0.5) + 1)):\n",
    "        print(num)\n",
    "\n",
    "# (iii) Print all numbers between 100 and 1000 that are divisible by 7 and 9\n",
    "for num in range(100, 1001):\n",
    "    if num % 7 == 0 and num % 9 == 0:\n",
    "        print(num)\n"
   ]
  },
  {
   "cell_type": "code",
   "execution_count": 8,
   "metadata": {
    "colab": {
     "base_uri": "https://localhost:8080/"
    },
    "id": "3UPpgucnyan4",
    "outputId": "4e86229d-9e17-478b-e68a-3dd41605ba42"
   },
   "outputs": [
    {
     "name": "stdout",
     "output_type": "stream",
     "text": [
      "The examination will start from: 11/12/2014\n"
     ]
    }
   ],
   "source": [
    "exam_st_date = (11, 12, 2014)\n",
    "print(f\"The examination will start from: {exam_st_date[0]}/{exam_st_date[1]}/{exam_st_date[2]}\")\n"
   ]
  },
  {
   "cell_type": "code",
   "execution_count": 15,
   "metadata": {
    "colab": {
     "base_uri": "https://localhost:8080/"
    },
    "id": "vp1I1VkZygab",
    "outputId": "da03f09a-c31c-4d00-8603-d29d21e723bf"
   },
   "outputs": [
    {
     "name": "stdout",
     "output_type": "stream",
     "text": [
      "15\n",
      "50\n",
      "90\n"
     ]
    }
   ],
   "source": [
    "numbers = [15, 24, 54, 76, 50, 90]\n",
    "for num in numbers:\n",
    "    if num % 5 == 0:\n",
    "        print(num)\n"
   ]
  },
  {
   "cell_type": "code",
   "execution_count": 16,
   "metadata": {
    "colab": {
     "base_uri": "https://localhost:8080/"
    },
    "id": "-P9AeLkuyoo_",
    "outputId": "c661213d-435a-46d5-a848-aae5203e9e96"
   },
   "outputs": [
    {
     "name": "stdin",
     "output_type": "stream",
     "text": [
      "Enter a number:  8\n"
     ]
    },
    {
     "name": "stdout",
     "output_type": "stream",
     "text": [
      "8 is even.\n"
     ]
    }
   ],
   "source": [
    "num = int(input(\"Enter a number: \"))\n",
    "is_even = num % 2 == 0\n",
    "print(f\"{num} is {'even' if is_even else 'odd'}.\")\n"
   ]
  },
  {
   "cell_type": "code",
   "execution_count": 17,
   "metadata": {
    "colab": {
     "base_uri": "https://localhost:8080/"
    },
    "id": "RIzGdIbiyqSw",
    "outputId": "6c0d67bb-2230-42e9-a8cf-45ee2a0f6bee"
   },
   "outputs": [
    {
     "name": "stdout",
     "output_type": "stream",
     "text": [
      "Emma appears 2 times.\n"
     ]
    }
   ],
   "source": [
    "string = \"Emma is good at cooking Emma is a chef.\"\n",
    "count = string.count(\"Emma\")\n",
    "print(\"Emma appears\", count, \"times.\")\n"
   ]
  },
  {
   "cell_type": "code",
   "execution_count": 19,
   "metadata": {
    "colab": {
     "base_uri": "https://localhost:8080/"
    },
    "id": "6I8EtjY9yuyY",
    "outputId": "3ba40149-e929-4b67-c1c8-3bd47d87483a"
   },
   "outputs": [
    {
     "name": "stdout",
     "output_type": "stream",
     "text": [
      "New list: [1, 21, 13, 57, 63, 18, 10, 22, 32, 14, 16]\n"
     ]
    }
   ],
   "source": [
    "list1 = [1, 21, 13, 46, 57, 63, 72]\n",
    "list2 = [18, 10, 22, 32, 14, 15, 16]\n",
    "\n",
    "new_list = [x for x in list1 if x % 2 != 0] + [y for y in list2 if y % 2 == 0]\n",
    "print(\"New list:\", new_list)\n"
   ]
  },
  {
   "cell_type": "code",
   "execution_count": null,
   "metadata": {
    "id": "vB2mvCAqy-GY"
   },
   "outputs": [],
   "source": []
  }
 ],
 "metadata": {
  "colab": {
   "provenance": []
  },
  "kernelspec": {
   "display_name": "Python 3 (ipykernel)",
   "language": "python",
   "name": "python3"
  },
  "language_info": {
   "codemirror_mode": {
    "name": "ipython",
    "version": 3
   },
   "file_extension": ".py",
   "mimetype": "text/x-python",
   "name": "python",
   "nbconvert_exporter": "python",
   "pygments_lexer": "ipython3",
   "version": "3.11.7"
  }
 },
 "nbformat": 4,
 "nbformat_minor": 4
}
